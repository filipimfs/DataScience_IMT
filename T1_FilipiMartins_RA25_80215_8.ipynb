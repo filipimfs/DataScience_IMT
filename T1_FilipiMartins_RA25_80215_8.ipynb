{
  "nbformat": 4,
  "nbformat_minor": 0,
  "metadata": {
    "colab": {
      "provenance": [],
      "authorship_tag": "ABX9TyNBImdz6uahJBCWZ4RvRVoh",
      "include_colab_link": true
    },
    "kernelspec": {
      "name": "python3",
      "display_name": "Python 3"
    },
    "language_info": {
      "name": "python"
    }
  },
  "cells": [
    {
      "cell_type": "markdown",
      "metadata": {
        "id": "view-in-github",
        "colab_type": "text"
      },
      "source": [
        "<a href=\"https://colab.research.google.com/github/filipimfs/DataScience_IMT/blob/main/T1_FilipiMartins_RA25_80215_8.ipynb\" target=\"_parent\"><img src=\"https://colab.research.google.com/assets/colab-badge.svg\" alt=\"Open In Colab\"/></a>"
      ]
    },
    {
      "cell_type": "code",
      "execution_count": 5,
      "metadata": {
        "colab": {
          "base_uri": "https://localhost:8080/"
        },
        "id": "-tfpMJqIgXhl",
        "outputId": "859b3ef4-19e0-4b59-f828-a3a6accff54e"
      },
      "outputs": [
        {
          "output_type": "stream",
          "name": "stdout",
          "text": [
            "--2025-03-20 17:36:33--  https://raw.githubusercontent.com/filipimfs/DataScience_IMT/refs/heads/main/MachineLearning/projects/01-regressao/dados/sao-paulo-properties-april-2019.csv?token=GHSAT0AAAAAADAPGMQRPJEH3DPZ62DNAFOKZ64KJJA\n",
            "Resolving raw.githubusercontent.com (raw.githubusercontent.com)... 185.199.108.133, 185.199.109.133, 185.199.110.133, ...\n",
            "Connecting to raw.githubusercontent.com (raw.githubusercontent.com)|185.199.108.133|:443... connected.\n",
            "HTTP request sent, awaiting response... 200 OK\n",
            "Length: 1209935 (1.2M) [text/plain]\n",
            "Saving to: ‘sao_paulo_properties.csv’\n",
            "\n",
            "sao_paulo_propertie 100%[===================>]   1.15M  --.-KB/s    in 0.06s   \n",
            "\n",
            "2025-03-20 17:36:33 (18.3 MB/s) - ‘sao_paulo_properties.csv’ saved [1209935/1209935]\n",
            "\n",
            "   Price  Condo  Size  Rooms  Toilets  Suites  Parking  Elevator  Furnished  \\\n",
            "0    930    220    47      2        2       1        1         0          0   \n",
            "1   1000    148    45      2        2       1        1         0          0   \n",
            "2   1000    100    48      2        2       1        1         0          0   \n",
            "3   1000    200    48      2        2       1        1         0          0   \n",
            "4   1300    410    55      2        2       1        1         1          0   \n",
            "\n",
            "   Swimming Pool  New               District Negotiation Type Property Type  \\\n",
            "0              0    0  Artur Alvim/São Paulo             rent     apartment   \n",
            "1              0    0  Artur Alvim/São Paulo             rent     apartment   \n",
            "2              0    0  Artur Alvim/São Paulo             rent     apartment   \n",
            "3              0    0  Artur Alvim/São Paulo             rent     apartment   \n",
            "4              0    0  Artur Alvim/São Paulo             rent     apartment   \n",
            "\n",
            "    Latitude  Longitude  \n",
            "0 -23.543138 -46.479486  \n",
            "1 -23.550239 -46.480718  \n",
            "2 -23.542818 -46.485665  \n",
            "3 -23.547171 -46.483014  \n",
            "4 -23.525025 -46.482436  \n"
          ]
        }
      ],
      "source": [
        "# URL do arquivo raw no GitHub\n",
        "url_arquivo = 'https://raw.githubusercontent.com/filipimfs/DataScience_IMT/refs/heads/main/MachineLearning/projects/01-regressao/dados/sao-paulo-properties-april-2019.csv?token=GHSAT0AAAAAADAPGMQRPJEH3DPZ62DNAFOKZ64KJJA'\n",
        "\n",
        "# Usando wget para baixar o arquivo diretamente no Colab\n",
        "!wget -O sao_paulo_properties.csv {url_arquivo}\n",
        "\n",
        "# Usando pandas para carregar o arquivo baixado\n",
        "import pandas as pd\n",
        "df = pd.read_csv('sao_paulo_properties.csv')\n",
        "print(df.head())\n"
      ]
    }
  ]
}